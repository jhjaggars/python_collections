{
 "cells": [
  {
   "cell_type": "markdown",
   "metadata": {},
   "source": [
    "# List vs Deque"
   ]
  },
  {
   "cell_type": "code",
   "execution_count": 2,
   "metadata": {
    "collapsed": true
   },
   "outputs": [],
   "source": [
    "from collections import deque"
   ]
  },
  {
   "cell_type": "code",
   "execution_count": 3,
   "metadata": {
    "collapsed": true
   },
   "outputs": [],
   "source": [
    "dq = deque()\n",
    "ls = list()"
   ]
  },
  {
   "cell_type": "code",
   "execution_count": 4,
   "metadata": {
    "collapsed": true
   },
   "outputs": [],
   "source": [
    "dq.append(1)\n",
    "ls.append(1)\n",
    "\n",
    "dq.appendleft(1)\n",
    "ls.insert(0, 1)"
   ]
  },
  {
   "cell_type": "markdown",
   "metadata": {},
   "source": [
    "### Append/Prepend"
   ]
  },
  {
   "cell_type": "code",
   "execution_count": 5,
   "metadata": {},
   "outputs": [
    {
     "name": "stdout",
     "output_type": "stream",
     "text": [
      "100000 loops, best of 3: 7.7 µs per loop\n"
     ]
    }
   ],
   "source": [
    "%%timeit\n",
    "ls = []\n",
    "for i in xrange(100):\n",
    "    ls.append(1)"
   ]
  },
  {
   "cell_type": "code",
   "execution_count": 6,
   "metadata": {},
   "outputs": [
    {
     "name": "stdout",
     "output_type": "stream",
     "text": [
      "100000 loops, best of 3: 7.68 µs per loop\n"
     ]
    }
   ],
   "source": [
    "%%timeit\n",
    "dq = deque()\n",
    "for i in xrange(100):\n",
    "    dq.append(1)"
   ]
  },
  {
   "cell_type": "code",
   "execution_count": 7,
   "metadata": {},
   "outputs": [
    {
     "name": "stdout",
     "output_type": "stream",
     "text": [
      "10000 loops, best of 3: 19 µs per loop\n"
     ]
    }
   ],
   "source": [
    "%%timeit\n",
    "ls = []\n",
    "for i in xrange(100):\n",
    "    ls.insert(0, 1)"
   ]
  },
  {
   "cell_type": "code",
   "execution_count": 8,
   "metadata": {},
   "outputs": [
    {
     "name": "stdout",
     "output_type": "stream",
     "text": [
      "100000 loops, best of 3: 7.3 µs per loop\n"
     ]
    }
   ],
   "source": [
    "%%timeit\n",
    "dq = deque()\n",
    "for i in xrange(100):\n",
    "    dq.appendleft(1)"
   ]
  },
  {
   "cell_type": "markdown",
   "metadata": {},
   "source": [
    "### Access"
   ]
  },
  {
   "cell_type": "code",
   "execution_count": 9,
   "metadata": {
    "collapsed": true
   },
   "outputs": [],
   "source": [
    "ls = range(100)\n",
    "dq = deque(range(100))"
   ]
  },
  {
   "cell_type": "markdown",
   "metadata": {},
   "source": [
    "#### Random Access"
   ]
  },
  {
   "cell_type": "code",
   "execution_count": 10,
   "metadata": {},
   "outputs": [
    {
     "name": "stdout",
     "output_type": "stream",
     "text": [
      "10000000 loops, best of 3: 38.3 ns per loop\n"
     ]
    }
   ],
   "source": [
    "%%timeit\n",
    "dq[50]"
   ]
  },
  {
   "cell_type": "code",
   "execution_count": 11,
   "metadata": {},
   "outputs": [
    {
     "name": "stdout",
     "output_type": "stream",
     "text": [
      "10000000 loops, best of 3: 28.6 ns per loop\n"
     ]
    }
   ],
   "source": [
    "%%timeit\n",
    "ls[50]"
   ]
  },
  {
   "cell_type": "markdown",
   "metadata": {},
   "source": [
    "#### Sequential Access"
   ]
  },
  {
   "cell_type": "code",
   "execution_count": 12,
   "metadata": {},
   "outputs": [
    {
     "name": "stdout",
     "output_type": "stream",
     "text": [
      "The slowest run took 13.39 times longer than the fastest. This could mean that an intermediate result is being cached.\n",
      "1000000 loops, best of 3: 1 µs per loop\n"
     ]
    }
   ],
   "source": [
    "%%timeit\n",
    "for x in ls:\n",
    "    pass"
   ]
  },
  {
   "cell_type": "code",
   "execution_count": 13,
   "metadata": {},
   "outputs": [
    {
     "name": "stdout",
     "output_type": "stream",
     "text": [
      "The slowest run took 9.87 times longer than the fastest. This could mean that an intermediate result is being cached.\n",
      "1000000 loops, best of 3: 932 ns per loop\n"
     ]
    }
   ],
   "source": [
    "%%timeit\n",
    "for x in dq:\n",
    "    pass"
   ]
  },
  {
   "cell_type": "markdown",
   "metadata": {},
   "source": [
    "#### Slices"
   ]
  },
  {
   "cell_type": "code",
   "execution_count": 14,
   "metadata": {},
   "outputs": [
    {
     "name": "stdout",
     "output_type": "stream",
     "text": [
      "10000000 loops, best of 3: 131 ns per loop\n"
     ]
    }
   ],
   "source": [
    "%%timeit\n",
    "ls[5:15]"
   ]
  },
  {
   "cell_type": "code",
   "execution_count": 15,
   "metadata": {},
   "outputs": [
    {
     "name": "stdout",
     "output_type": "stream",
     "text": [
      "The slowest run took 4.71 times longer than the fastest. This could mean that an intermediate result is being cached.\n",
      "1000000 loops, best of 3: 810 ns per loop\n"
     ]
    }
   ],
   "source": [
    "%%timeit\n",
    "list(dq)[5:15] # deques don't support slicing directly"
   ]
  },
  {
   "cell_type": "markdown",
   "metadata": {},
   "source": [
    "# Dictionary vs defaultdict"
   ]
  },
  {
   "cell_type": "code",
   "execution_count": 16,
   "metadata": {
    "collapsed": true
   },
   "outputs": [],
   "source": [
    "from collections import defaultdict\n",
    "from pprint import pprint"
   ]
  },
  {
   "cell_type": "code",
   "execution_count": 17,
   "metadata": {},
   "outputs": [
    {
     "name": "stdout",
     "output_type": "stream",
     "text": [
      "{'key': 1}\n",
      "defaultdict(<type 'int'>, {'key': 1})\n"
     ]
    }
   ],
   "source": [
    "d = {}\n",
    "dd = defaultdict(int)\n",
    "\n",
    "d[\"key\"] = 1\n",
    "dd[\"key\"] = 1\n",
    "\n",
    "print d\n",
    "print dd"
   ]
  },
  {
   "cell_type": "code",
   "execution_count": 18,
   "metadata": {},
   "outputs": [
    {
     "name": "stdout",
     "output_type": "stream",
     "text": [
      "0\n"
     ]
    },
    {
     "ename": "KeyError",
     "evalue": "'key'",
     "output_type": "error",
     "traceback": [
      "\u001b[0;31m---------------------------------------------------------------------------\u001b[0m",
      "\u001b[0;31mKeyError\u001b[0m                                  Traceback (most recent call last)",
      "\u001b[0;32m<ipython-input-18-75fd69c3a5a6>\u001b[0m in \u001b[0;36m<module>\u001b[0;34m()\u001b[0m\n\u001b[1;32m      3\u001b[0m \u001b[0;34m\u001b[0m\u001b[0m\n\u001b[1;32m      4\u001b[0m \u001b[0;32mprint\u001b[0m \u001b[0mdd\u001b[0m\u001b[0;34m[\u001b[0m\u001b[0;34m\"key\"\u001b[0m\u001b[0;34m]\u001b[0m\u001b[0;34m\u001b[0m\u001b[0m\n\u001b[0;32m----> 5\u001b[0;31m \u001b[0;32mprint\u001b[0m \u001b[0md\u001b[0m\u001b[0;34m[\u001b[0m\u001b[0;34m\"key\"\u001b[0m\u001b[0;34m]\u001b[0m\u001b[0;34m\u001b[0m\u001b[0m\n\u001b[0m",
      "\u001b[0;31mKeyError\u001b[0m: 'key'"
     ]
    }
   ],
   "source": [
    "d = {}\n",
    "dd = defaultdict(int)\n",
    "\n",
    "print dd[\"key\"]\n",
    "print d[\"key\"]"
   ]
  },
  {
   "cell_type": "code",
   "execution_count": 19,
   "metadata": {},
   "outputs": [
    {
     "data": {
      "text/plain": [
       "{'even': [0, 2, 4, 6, 8, 10, 12, 14, 16, 18, 20, 22, 24, 26, 28],\n",
       " 'odd': [1, 3, 5, 7, 9, 11, 13, 15, 17, 19, 21, 23, 25, 27, 29]}"
      ]
     },
     "execution_count": 19,
     "metadata": {},
     "output_type": "execute_result"
    }
   ],
   "source": [
    "#%%timeit\n",
    "d = {}\n",
    "\n",
    "for x in range(30):\n",
    "    bucket = \"even\" if (x % 2 == 0) else \"odd\"\n",
    "    if bucket not in d:\n",
    "        d[bucket] = []\n",
    "    d[bucket].append(x)\n",
    "\n",
    "d"
   ]
  },
  {
   "cell_type": "code",
   "execution_count": 20,
   "metadata": {},
   "outputs": [
    {
     "data": {
      "text/plain": [
       "defaultdict(list,\n",
       "            {'even': [0, 2, 4, 6, 8, 10, 12, 14, 16, 18, 20, 22, 24, 26, 28],\n",
       "             'odd': [1, 3, 5, 7, 9, 11, 13, 15, 17, 19, 21, 23, 25, 27, 29]})"
      ]
     },
     "execution_count": 20,
     "metadata": {},
     "output_type": "execute_result"
    }
   ],
   "source": [
    "#%%timeit\n",
    "dd = defaultdict(list)\n",
    "\n",
    "for x in range(30):\n",
    "    bucket = \"even\" if (x % 2 == 0) else \"odd\"\n",
    "    dd[bucket].append(x)\n",
    "\n",
    "dd"
   ]
  },
  {
   "cell_type": "code",
   "execution_count": 21,
   "metadata": {
    "collapsed": true
   },
   "outputs": [],
   "source": [
    "import requests\n",
    "words = requests.get(\"https://raw.githubusercontent.com/berzerk0/Probable-Wordlists/master/Real-Passwords/Top3575-probable.txt\").text.split(\"\\n\")"
   ]
  },
  {
   "cell_type": "markdown",
   "metadata": {},
   "source": [
    "### Counting\n",
    "\n",
    "You can count with vanilla dictionaries by exploiting the default portion of the `.get` method.\n",
    "This is a good way to prepare data for use in a histogram."
   ]
  },
  {
   "cell_type": "code",
   "execution_count": 22,
   "metadata": {},
   "outputs": [
    {
     "name": "stdout",
     "output_type": "stream",
     "text": [
      "{0: 1,\n",
      " 1: 10,\n",
      " 2: 2,\n",
      " 3: 5,\n",
      " 4: 61,\n",
      " 5: 191,\n",
      " 6: 1191,\n",
      " 7: 736,\n",
      " 8: 972,\n",
      " 9: 277,\n",
      " 10: 102,\n",
      " 11: 18,\n",
      " 12: 7,\n",
      " 13: 2}\n",
      "{0: 1,\n",
      " 1: 84,\n",
      " 2: 51,\n",
      " 3: 70,\n",
      " 4: 270,\n",
      " 5: 786,\n",
      " 6: 1121,\n",
      " 7: 750,\n",
      " 8: 323,\n",
      " 9: 93,\n",
      " 10: 22,\n",
      " 12: 4}\n"
     ]
    }
   ],
   "source": [
    "by_len = {}\n",
    "dist_ch = {}\n",
    "for word in words:\n",
    "    by_len[len(word)] = by_len.get(len(word), 0) + 1\n",
    "    \n",
    "    chs = len(set(word))\n",
    "    dist_ch[chs] = dist_ch.get(chs, 0) + 1\n",
    "\n",
    "pprint(by_len)\n",
    "pprint(dist_ch)"
   ]
  },
  {
   "cell_type": "markdown",
   "metadata": {},
   "source": [
    "### Grouping"
   ]
  },
  {
   "cell_type": "code",
   "execution_count": 24,
   "metadata": {},
   "outputs": [
    {
     "name": "stdout",
     "output_type": "stream",
     "text": [
      "100 loops, best of 3: 3.32 ms per loop\n"
     ]
    }
   ],
   "source": [
    "%%timeit\n",
    "d = {}\n",
    "for word in words:\n",
    "    chs = len(set(word))\n",
    "    d.setdefault(chs, []).append(word)\n",
    "    \n",
    "d"
   ]
  },
  {
   "cell_type": "code",
   "execution_count": 25,
   "metadata": {},
   "outputs": [
    {
     "name": "stdout",
     "output_type": "stream",
     "text": [
      "100 loops, best of 3: 2.99 ms per loop\n"
     ]
    }
   ],
   "source": [
    "%%timeit\n",
    "dd = defaultdict(list)\n",
    "for word in words:\n",
    "    chs = len(set(word))\n",
    "    dd[chs].append(word)\n",
    "\n",
    "dict(dd)"
   ]
  },
  {
   "cell_type": "markdown",
   "metadata": {},
   "source": [
    "### More counting"
   ]
  },
  {
   "cell_type": "code",
   "execution_count": 26,
   "metadata": {
    "collapsed": true
   },
   "outputs": [],
   "source": [
    "from collections import Counter"
   ]
  },
  {
   "cell_type": "code",
   "execution_count": 27,
   "metadata": {},
   "outputs": [
    {
     "data": {
      "text/plain": [
       "[((u'1', u'2', u'3', u'4', u'5', u'6', u'7', u'8', u'9'), 14),\n",
       " ((u'1', u'2', u'3'), 8),\n",
       " ((u'1',), 8),\n",
       " ((u'a',), 7),\n",
       " ((u'1', u'2', u'3', u'4'), 7)]"
      ]
     },
     "execution_count": 27,
     "metadata": {},
     "output_type": "execute_result"
    }
   ],
   "source": [
    "c = Counter()\n",
    "for word in words:\n",
    "    dist_ch = tuple(sorted(set(word)))\n",
    "    c[dist_ch] += 1\n",
    "\n",
    "c.most_common(5)"
   ]
  },
  {
   "cell_type": "code",
   "execution_count": 28,
   "metadata": {},
   "outputs": [
    {
     "data": {
      "text/plain": [
       "[(6, 1121), (5, 786), (7, 750), (8, 323), (4, 270)]"
      ]
     },
     "execution_count": 28,
     "metadata": {},
     "output_type": "execute_result"
    }
   ],
   "source": [
    "c = Counter()\n",
    "for word in words:\n",
    "    chs = len(set(word))\n",
    "    c[chs] += 1\n",
    "\n",
    "c.most_common(5)"
   ]
  },
  {
   "cell_type": "code",
   "execution_count": 29,
   "metadata": {
    "collapsed": true
   },
   "outputs": [],
   "source": [
    "import csv\n",
    "dataset = requests.get(\"http://samplecsvs.s3.amazonaws.com/SalesJan2009.csv\")\n",
    "r = csv.DictReader(dataset.iter_lines())\n",
    "rows = list(r)"
   ]
  },
  {
   "cell_type": "code",
   "execution_count": 30,
   "metadata": {},
   "outputs": [
    {
     "data": {
      "text/plain": [
       "998"
      ]
     },
     "execution_count": 30,
     "metadata": {},
     "output_type": "execute_result"
    }
   ],
   "source": [
    "len(rows)"
   ]
  },
  {
   "cell_type": "code",
   "execution_count": 31,
   "metadata": {},
   "outputs": [
    {
     "data": {
      "text/plain": [
       "{'Account_Created': '1/2/09 6:00',\n",
       " 'City': 'Basildon',\n",
       " 'Country': 'United Kingdom',\n",
       " 'Last_Login': '1/2/09 6:08',\n",
       " 'Latitude': '51.5',\n",
       " 'Longitude': '-1.1166667',\n",
       " 'Name': 'carolina',\n",
       " 'Payment_Type': 'Mastercard',\n",
       " 'Price': '1200',\n",
       " 'Product': 'Product1',\n",
       " 'State': 'England',\n",
       " 'Transaction_date': '1/2/09 6:17'}"
      ]
     },
     "execution_count": 31,
     "metadata": {},
     "output_type": "execute_result"
    }
   ],
   "source": [
    "rows[0]"
   ]
  },
  {
   "cell_type": "code",
   "execution_count": 32,
   "metadata": {},
   "outputs": [
    {
     "data": {
      "text/plain": [
       "[('United States', 463), ('United Kingdom', 100), ('Canada', 76)]"
      ]
     },
     "execution_count": 32,
     "metadata": {},
     "output_type": "execute_result"
    }
   ],
   "source": [
    "countries = Counter()\n",
    "for row in rows:\n",
    "    countries[row[\"Country\"]] += 1\n",
    "countries.most_common(3)"
   ]
  },
  {
   "cell_type": "code",
   "execution_count": 49,
   "metadata": {
    "collapsed": true
   },
   "outputs": [],
   "source": [
    "def parse_price(rev):\n",
    "    return int(filter(lambda c: c.isdigit(), rev))"
   ]
  },
  {
   "cell_type": "code",
   "execution_count": 50,
   "metadata": {},
   "outputs": [
    {
     "data": {
      "text/plain": [
       "[(1200, 'Argentina'),\n",
       " (1200, 'Bahrain'),\n",
       " (1200, 'Bermuda'),\n",
       " (1200, 'Bulgaria'),\n",
       " (1200, 'Cayman Isls'),\n",
       " (1200, 'China'),\n",
       " (1200, 'Costa Rica'),\n",
       " (1200, 'Dominican Republic'),\n",
       " (1200, 'Greece'),\n",
       " (1200, 'Guatemala'),\n",
       " (1200, 'Hong Kong'),\n",
       " (1200, 'Iceland'),\n",
       " (1200, 'Israel'),\n",
       " (1200, 'Jersey'),\n",
       " (1200, 'Kuwait'),\n",
       " (1200, 'Latvia'),\n",
       " (1200, 'Luxembourg'),\n",
       " (1200, 'Malaysia'),\n",
       " (1200, 'Moldova'),\n",
       " (1200, 'Romania'),\n",
       " (1200, 'South Korea'),\n",
       " (1200, 'Ukraine'),\n",
       " (2400, 'Finland'),\n",
       " (2400, 'India'),\n",
       " (2400, 'Japan'),\n",
       " (2400, 'Monaco'),\n",
       " (2400, 'Philippines'),\n",
       " (2400, 'Poland'),\n",
       " (2400, 'The Bahamas'),\n",
       " (3600, 'Hungary'),\n",
       " (3600, 'Mauritius'),\n",
       " (3600, 'Russia'),\n",
       " (4800, 'Malta'),\n",
       " (4800, 'Thailand'),\n",
       " (6000, 'Czech Republic'),\n",
       " (7200, 'New Zealand'),\n",
       " (7200, 'Turkey'),\n",
       " (10800, 'Austria'),\n",
       " (12000, 'Belgium'),\n",
       " (12000, 'United Arab Emirates'),\n",
       " (12300, 'Brazil'),\n",
       " (12300, 'South Africa'),\n",
       " (16800, 'Spain'),\n",
       " (18000, 'Denmark'),\n",
       " (21600, 'Norway'),\n",
       " (22800, 'Sweden'),\n",
       " (37800, 'Italy'),\n",
       " (42000, 'Germany'),\n",
       " (44700, 'Netherlands'),\n",
       " (53100, 'France'),\n",
       " (64800, 'Australia'),\n",
       " (69900, 'Ireland'),\n",
       " (76800, 'Switzerland'),\n",
       " (124800, 'Canada'),\n",
       " (144000, 'United Kingdom'),\n",
       " (750000, 'United States')]"
      ]
     },
     "execution_count": 50,
     "metadata": {},
     "output_type": "execute_result"
    }
   ],
   "source": [
    "revenue_by_country = defaultdict(list)\n",
    "for row in rows:\n",
    "    revenue_by_country[row[\"Country\"]].append(parse_price(row[\"Price\"]))\n",
    "    \n",
    "sorted((sum(rev), c) for c, rev in revenue_by_country.items())"
   ]
  },
  {
   "cell_type": "code",
   "execution_count": 51,
   "metadata": {},
   "outputs": [
    {
     "name": "stdout",
     "output_type": "stream",
     "text": [
      "{'Argentina': (1200, 1200, 1),\n",
      " 'Australia': (1705, 64800, 38),\n",
      " 'Austria': (1542, 10800, 7),\n",
      " 'Bahrain': (1200, 1200, 1),\n",
      " 'Belgium': (1500, 12000, 8),\n",
      " 'Bermuda': (1200, 1200, 1),\n",
      " 'Brazil': (2460, 12300, 5),\n",
      " 'Bulgaria': (1200, 1200, 1),\n",
      " 'Canada': (1642, 124800, 76),\n",
      " 'Cayman Isls': (1200, 1200, 1),\n",
      " 'China': (1200, 1200, 1),\n",
      " 'Costa Rica': (1200, 1200, 1),\n",
      " 'Czech Republic': (2000, 6000, 3),\n",
      " 'Denmark': (1200, 18000, 15),\n",
      " 'Dominican Republic': (1200, 1200, 1),\n",
      " 'Finland': (1200, 2400, 2),\n",
      " 'France': (1966, 53100, 27),\n",
      " 'Germany': (1680, 42000, 25),\n",
      " 'Greece': (1200, 1200, 1),\n",
      " 'Guatemala': (1200, 1200, 1),\n",
      " 'Hong Kong': (1200, 1200, 1),\n",
      " 'Hungary': (1200, 3600, 3),\n",
      " 'Iceland': (1200, 1200, 1),\n",
      " 'India': (1200, 2400, 2),\n",
      " 'Ireland': (1426, 69900, 49),\n",
      " 'Israel': (1200, 1200, 1),\n",
      " 'Italy': (2520, 37800, 15),\n",
      " 'Japan': (1200, 2400, 2),\n",
      " 'Jersey': (1200, 1200, 1),\n",
      " 'Kuwait': (1200, 1200, 1),\n",
      " 'Latvia': (1200, 1200, 1),\n",
      " 'Luxembourg': (1200, 1200, 1),\n",
      " 'Malaysia': (1200, 1200, 1),\n",
      " 'Malta': (2400, 4800, 2),\n",
      " 'Mauritius': (3600, 3600, 1),\n",
      " 'Moldova': (1200, 1200, 1),\n",
      " 'Monaco': (1200, 2400, 2),\n",
      " 'Netherlands': (2031, 44700, 22),\n",
      " 'New Zealand': (1200, 7200, 6),\n",
      " 'Norway': (1350, 21600, 16),\n",
      " 'Philippines': (1200, 2400, 2),\n",
      " 'Poland': (1200, 2400, 2),\n",
      " 'Romania': (1200, 1200, 1),\n",
      " 'Russia': (3600, 3600, 1),\n",
      " 'South Africa': (2460, 12300, 5),\n",
      " 'South Korea': (1200, 1200, 1),\n",
      " 'Spain': (1400, 16800, 12),\n",
      " 'Sweden': (1753, 22800, 13),\n",
      " 'Switzerland': (2133, 76800, 36),\n",
      " 'Thailand': (2400, 4800, 2),\n",
      " 'The Bahamas': (1200, 2400, 2),\n",
      " 'Turkey': (1200, 7200, 6),\n",
      " 'Ukraine': (1200, 1200, 1),\n",
      " 'United Arab Emirates': (2000, 12000, 6),\n",
      " 'United Kingdom': (1440, 144000, 100),\n",
      " 'United States': (1619, 750000, 463)}\n"
     ]
    }
   ],
   "source": [
    "def avg(prices):\n",
    "    return sum(prices) / len(prices)\n",
    "\n",
    "group = defaultdict(list)\n",
    "for row in rows:\n",
    "    group[row[\"Country\"]].append(parse_price(row[\"Price\"]))\n",
    "\n",
    "price_info = {country: (avg(prices), sum(prices), len(prices)) for country, prices in group.items()}\n",
    "pprint(price_info)"
   ]
  },
  {
   "cell_type": "code",
   "execution_count": 48,
   "metadata": {},
   "outputs": [
    {
     "name": "stdout",
     "output_type": "stream",
     "text": [
      "best average price\n",
      "('Russia', (3600, 3600, 1))\n",
      "most transactions\n",
      "('United States', (1619, 750000, 463))\n"
     ]
    }
   ],
   "source": [
    "from operator import itemgetter\n",
    "\n",
    "print \"best average price\"\n",
    "pprint(max(price_info.items(), key=itemgetter(1)))\n",
    "\n",
    "print \"most transactions\"\n",
    "pprint(max(price_info.items(), key=lambda pair: pair[1][2]))"
   ]
  },
  {
   "cell_type": "code",
   "execution_count": 36,
   "metadata": {
    "collapsed": true
   },
   "outputs": [],
   "source": [
    "from collections import namedtuple\n",
    "Record = namedtuple('Record', \" \".join(rows[0]))"
   ]
  },
  {
   "cell_type": "code",
   "execution_count": 52,
   "metadata": {},
   "outputs": [
    {
     "data": {
      "text/plain": [
       "Record(City='Basildon', Product='Product1', Name='carolina', Country='United Kingdom', Price='1200', Longitude='-1.1166667', State='England', Transaction_date='1/2/09 6:17', Last_Login='1/2/09 6:08', Payment_Type='Mastercard', Latitude='51.5', Account_Created='1/2/09 6:00')"
      ]
     },
     "execution_count": 52,
     "metadata": {},
     "output_type": "execute_result"
    }
   ],
   "source": [
    "Record(**rows[0])"
   ]
  },
  {
   "cell_type": "code",
   "execution_count": 38,
   "metadata": {
    "collapsed": true
   },
   "outputs": [],
   "source": [
    "table = [Record(**row) for row in rows]"
   ]
  },
  {
   "cell_type": "code",
   "execution_count": 53,
   "metadata": {},
   "outputs": [
    {
     "data": {
      "text/plain": [
       "[('Visa', 849350),\n",
       " ('Mastercard', 458450),\n",
       " ('Amex', 188900),\n",
       " ('Diners', 133800)]"
      ]
     },
     "execution_count": 53,
     "metadata": {},
     "output_type": "execute_result"
    }
   ],
   "source": [
    "c = Counter()\n",
    "for rec in table:\n",
    "    c[rec.Payment_Type] += parse_price(rec.Price)\n",
    "c.most_common()"
   ]
  },
  {
   "cell_type": "code",
   "execution_count": 64,
   "metadata": {
    "collapsed": true
   },
   "outputs": [],
   "source": [
    "class GroupBy(defaultdict):\n",
    "    \n",
    "    def sum(self, by):\n",
    "        return self.agg(by, sum)\n",
    "    \n",
    "    def max(self, by):\n",
    "        return self.agg(by, max)\n",
    "    \n",
    "    def min(self, by):\n",
    "        return self.agg(by, min)\n",
    "    \n",
    "    def avg(self, by):\n",
    "        def _f(values):\n",
    "            xs = list(values)\n",
    "            return sum(xs) / len(xs)\n",
    "        return self.agg(by, _f)\n",
    "    \n",
    "    def agg(self, by, func):\n",
    "        return {k: func(rows.select(by)) for k, rows in self.items()}\n",
    "\n",
    "\n",
    "    \n",
    "class Table(list):\n",
    "    \n",
    "    def group(self, by):\n",
    "        grouping = GroupBy(Table)\n",
    "        for row in self:\n",
    "            grouping[getattr(row, by)].append(row)\n",
    "        return grouping\n",
    "    \n",
    "    def select(self, col):\n",
    "        for row in self:\n",
    "            yield getattr(row, col)\n",
    "            \n",
    "    def apply(self, col, func):\n",
    "        return Table([row._replace(**{col: func(getattr(row, col))}) for row in self])"
   ]
  },
  {
   "cell_type": "code",
   "execution_count": 54,
   "metadata": {},
   "outputs": [
    {
     "data": {
      "text/plain": [
       "{'Argentina': 1200,\n",
       " 'Australia': 64800,\n",
       " 'Austria': 10800,\n",
       " 'Bahrain': 1200,\n",
       " 'Belgium': 12000,\n",
       " 'Bermuda': 1200,\n",
       " 'Brazil': 12300,\n",
       " 'Bulgaria': 1200,\n",
       " 'Canada': 124800,\n",
       " 'Cayman Isls': 1200,\n",
       " 'China': 1200,\n",
       " 'Costa Rica': 1200,\n",
       " 'Czech Republic': 6000,\n",
       " 'Denmark': 18000,\n",
       " 'Dominican Republic': 1200,\n",
       " 'Finland': 2400,\n",
       " 'France': 53100,\n",
       " 'Germany': 42000,\n",
       " 'Greece': 1200,\n",
       " 'Guatemala': 1200,\n",
       " 'Hong Kong': 1200,\n",
       " 'Hungary': 3600,\n",
       " 'Iceland': 1200,\n",
       " 'India': 2400,\n",
       " 'Ireland': 69900,\n",
       " 'Israel': 1200,\n",
       " 'Italy': 37800,\n",
       " 'Japan': 2400,\n",
       " 'Jersey': 1200,\n",
       " 'Kuwait': 1200,\n",
       " 'Latvia': 1200,\n",
       " 'Luxembourg': 1200,\n",
       " 'Malaysia': 1200,\n",
       " 'Malta': 4800,\n",
       " 'Mauritius': 3600,\n",
       " 'Moldova': 1200,\n",
       " 'Monaco': 2400,\n",
       " 'Netherlands': 44700,\n",
       " 'New Zealand': 7200,\n",
       " 'Norway': 21600,\n",
       " 'Philippines': 2400,\n",
       " 'Poland': 2400,\n",
       " 'Romania': 1200,\n",
       " 'Russia': 3600,\n",
       " 'South Africa': 12300,\n",
       " 'South Korea': 1200,\n",
       " 'Spain': 16800,\n",
       " 'Sweden': 22800,\n",
       " 'Switzerland': 76800,\n",
       " 'Thailand': 4800,\n",
       " 'The Bahamas': 2400,\n",
       " 'Turkey': 7200,\n",
       " 'Ukraine': 1200,\n",
       " 'United Arab Emirates': 12000,\n",
       " 'United Kingdom': 144000,\n",
       " 'United States': 750000}"
      ]
     },
     "execution_count": 54,
     "metadata": {},
     "output_type": "execute_result"
    }
   ],
   "source": [
    "t = Table(table)\n",
    "t.apply(\"Price\", parse_price).group(\"Country\").sum(\"Price\")"
   ]
  },
  {
   "cell_type": "code",
   "execution_count": 55,
   "metadata": {},
   "outputs": [
    {
     "data": {
      "text/plain": [
       "{'Argentina': 1200,\n",
       " 'Australia': 3600,\n",
       " 'Austria': 3600,\n",
       " 'Bahrain': 1200,\n",
       " 'Belgium': 3600,\n",
       " 'Bermuda': 1200,\n",
       " 'Brazil': 7500,\n",
       " 'Bulgaria': 1200,\n",
       " 'Canada': 3600,\n",
       " 'Cayman Isls': 1200,\n",
       " 'China': 1200,\n",
       " 'Costa Rica': 1200,\n",
       " 'Czech Republic': 3600,\n",
       " 'Denmark': 1200,\n",
       " 'Dominican Republic': 1200,\n",
       " 'Finland': 1200,\n",
       " 'France': 7500,\n",
       " 'Germany': 3600,\n",
       " 'Greece': 1200,\n",
       " 'Guatemala': 1200,\n",
       " 'Hong Kong': 1200,\n",
       " 'Hungary': 1200,\n",
       " 'Iceland': 1200,\n",
       " 'India': 1200,\n",
       " 'Ireland': 7500,\n",
       " 'Israel': 1200,\n",
       " 'Italy': 7500,\n",
       " 'Japan': 1200,\n",
       " 'Jersey': 1200,\n",
       " 'Kuwait': 1200,\n",
       " 'Latvia': 1200,\n",
       " 'Luxembourg': 1200,\n",
       " 'Malaysia': 1200,\n",
       " 'Malta': 3600,\n",
       " 'Mauritius': 3600,\n",
       " 'Moldova': 1200,\n",
       " 'Monaco': 1200,\n",
       " 'Netherlands': 7500,\n",
       " 'New Zealand': 1200,\n",
       " 'Norway': 3600,\n",
       " 'Philippines': 1200,\n",
       " 'Poland': 1200,\n",
       " 'Romania': 1200,\n",
       " 'Russia': 3600,\n",
       " 'South Africa': 7500,\n",
       " 'South Korea': 1200,\n",
       " 'Spain': 3600,\n",
       " 'Sweden': 3600,\n",
       " 'Switzerland': 3600,\n",
       " 'Thailand': 3600,\n",
       " 'The Bahamas': 1200,\n",
       " 'Turkey': 1200,\n",
       " 'Ukraine': 1200,\n",
       " 'United Arab Emirates': 3600,\n",
       " 'United Kingdom': 3600,\n",
       " 'United States': 13000}"
      ]
     },
     "execution_count": 55,
     "metadata": {},
     "output_type": "execute_result"
    }
   ],
   "source": [
    "t = Table(table).apply(\"Price\", parse_price)\n",
    "t.group(\"Country\").agg(\"Price\", max)"
   ]
  },
  {
   "cell_type": "code",
   "execution_count": 65,
   "metadata": {},
   "outputs": [
    {
     "name": "stdout",
     "output_type": "stream",
     "text": [
      "{'Product3': 7500, 'Product2': 3600, 'Product1': 13000, 'Product3 ': 7500}\n",
      "{'Product3': 7500, 'Product2': 3600, 'Product1': 250, 'Product3 ': 7500}\n",
      "{'Product3': 7500, 'Product2': 3600, 'Product1': 1214, 'Product3 ': 7500}\n",
      "{'Product3': 105000, 'Product2': 489600, 'Product1': 1028400, 'Product3 ': 7500}\n"
     ]
    }
   ],
   "source": [
    "t = Table(table).apply(\"Price\", parse_price)\n",
    "print t.group(\"Product\").max(\"Price\")\n",
    "print t.group(\"Product\").min(\"Price\")\n",
    "print t.group(\"Product\").avg(\"Price\")\n",
    "print t.group(\"Product\").sum(\"Price\")"
   ]
  }
 ],
 "metadata": {
  "kernelspec": {
   "display_name": "Python 2",
   "language": "python",
   "name": "python2"
  },
  "language_info": {
   "codemirror_mode": {
    "name": "ipython",
    "version": 2
   },
   "file_extension": ".py",
   "mimetype": "text/x-python",
   "name": "python",
   "nbconvert_exporter": "python",
   "pygments_lexer": "ipython2",
   "version": "2.7.10"
  }
 },
 "nbformat": 4,
 "nbformat_minor": 2
}
