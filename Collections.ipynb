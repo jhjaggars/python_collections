{
 "cells": [
  {
   "cell_type": "code",
   "execution_count": 178,
   "metadata": {
    "collapsed": true
   },
   "outputs": [],
   "source": [
    "from pprint import pprint"
   ]
  },
  {
   "cell_type": "markdown",
   "metadata": {},
   "source": [
    "# Basic Collection Types"
   ]
  },
  {
   "cell_type": "code",
   "execution_count": 128,
   "metadata": {
    "collapsed": true
   },
   "outputs": [],
   "source": [
    "lst = list()\n",
    "lst = [] # generally considered to be more pythonic\n",
    "\n",
    "d = dict()\n",
    "d = {} # generally considered to be more pythonic\n",
    "\n",
    "tup = tuple()\n",
    "tup = () # generally considered to be more pythonic\n",
    "\n",
    "s = set()"
   ]
  },
  {
   "cell_type": "markdown",
   "metadata": {},
   "source": [
    "Each colleciton has a literal construction mechanism"
   ]
  },
  {
   "cell_type": "code",
   "execution_count": 136,
   "metadata": {
    "collapsed": true
   },
   "outputs": [],
   "source": [
    "lst = [1, 2, 3]\n",
    "d = {\"key\": \"value\"}\n",
    "tup = (1, 2, 3)\n",
    "s = set([1, 2, 3])\n",
    "ss = {1, 2, 3} # added in python 2.7"
   ]
  },
  {
   "cell_type": "markdown",
   "metadata": {},
   "source": [
    "Beware, the tuple operator is actually the `,`. `()` is a special constructor for the _empty_ set."
   ]
  },
  {
   "cell_type": "code",
   "execution_count": 130,
   "metadata": {},
   "outputs": [
    {
     "name": "stdout",
     "output_type": "stream",
     "text": [
      "1 <type 'int'>\n",
      "(1,) <type 'tuple'>\n"
     ]
    }
   ],
   "source": [
    "t = (1)\n",
    "t2 = (1,)\n",
    "\n",
    "print t, type(t)\n",
    "print t2, type(t2)"
   ]
  },
  {
   "cell_type": "markdown",
   "metadata": {},
   "source": [
    "### Comprehensions"
   ]
  },
  {
   "cell_type": "code",
   "execution_count": 131,
   "metadata": {},
   "outputs": [
    {
     "name": "stdout",
     "output_type": "stream",
     "text": [
      "[0, 1, 2, 3, 4, 5, 6, 7, 8, 9]\n",
      "[0, 1, 4, 9, 16, 25, 36, 49, 64, 81]\n"
     ]
    }
   ],
   "source": [
    "xs = range(10)\n",
    "print xs\n",
    "squares = [x ** 2 for x in xs]\n",
    "print squares"
   ]
  },
  {
   "cell_type": "code",
   "execution_count": 134,
   "metadata": {},
   "outputs": [
    {
     "name": "stdout",
     "output_type": "stream",
     "text": [
      "{'max': 10, 'min': 0}\n",
      "{'max_squared': 100, 'min_squared': 0}\n"
     ]
    }
   ],
   "source": [
    "ds = {\"min\": 0, \"max\": 10}\n",
    "print ds\n",
    "squared = {\"%s_squared\" % k: v ** 2 for k, v in ds.items()} # added in python 2.7\n",
    "print squared"
   ]
  },
  {
   "cell_type": "code",
   "execution_count": 167,
   "metadata": {},
   "outputs": [
    {
     "name": "stdout",
     "output_type": "stream",
     "text": [
      "12 set([1, 2, 3, 7, 11, 12, 13, 14, 16, 17, 18, 20])\n"
     ]
    }
   ],
   "source": [
    "import random\n",
    "s = {random.randint(1, 20) for x in range(20)}\n",
    "print len(s), s"
   ]
  },
  {
   "cell_type": "markdown",
   "metadata": {},
   "source": [
    "# Deque"
   ]
  },
  {
   "cell_type": "markdown",
   "metadata": {},
   "source": [
    "Short for double-ended queue. This structure is useful for situations where the most common operation is appending or removing elements from either end.  As the name implies, this is a common use-case for a queue."
   ]
  },
  {
   "cell_type": "code",
   "execution_count": 2,
   "metadata": {
    "collapsed": true
   },
   "outputs": [],
   "source": [
    "from collections import deque"
   ]
  },
  {
   "cell_type": "code",
   "execution_count": 3,
   "metadata": {
    "collapsed": true
   },
   "outputs": [],
   "source": [
    "dq = deque()\n",
    "ls = list()"
   ]
  },
  {
   "cell_type": "code",
   "execution_count": 4,
   "metadata": {
    "collapsed": true
   },
   "outputs": [],
   "source": [
    "dq.append(1)\n",
    "ls.append(1)\n",
    "\n",
    "dq.appendleft(1)\n",
    "ls.insert(0, 1)"
   ]
  },
  {
   "cell_type": "markdown",
   "metadata": {},
   "source": [
    "### Append/Prepend"
   ]
  },
  {
   "cell_type": "code",
   "execution_count": 171,
   "metadata": {},
   "outputs": [
    {
     "name": "stdout",
     "output_type": "stream",
     "text": [
      "100000 loops, best of 3: 7.78 µs per loop\n"
     ]
    }
   ],
   "source": [
    "%%timeit\n",
    "ls = []\n",
    "for i in xrange(100):\n",
    "    ls.append(1)"
   ]
  },
  {
   "cell_type": "code",
   "execution_count": 170,
   "metadata": {},
   "outputs": [
    {
     "name": "stdout",
     "output_type": "stream",
     "text": [
      "100000 loops, best of 3: 7.25 µs per loop\n"
     ]
    }
   ],
   "source": [
    "%%timeit\n",
    "dq = deque()\n",
    "for i in xrange(100):\n",
    "    dq.append(1)"
   ]
  },
  {
   "cell_type": "code",
   "execution_count": 169,
   "metadata": {},
   "outputs": [
    {
     "name": "stdout",
     "output_type": "stream",
     "text": [
      "10000 loops, best of 3: 19.5 µs per loop\n"
     ]
    }
   ],
   "source": [
    "%%timeit\n",
    "ls = []\n",
    "for i in xrange(100):\n",
    "    ls.insert(0, 1) # this is a very slow case for a regular list"
   ]
  },
  {
   "cell_type": "code",
   "execution_count": 8,
   "metadata": {},
   "outputs": [
    {
     "name": "stdout",
     "output_type": "stream",
     "text": [
      "100000 loops, best of 3: 7.3 µs per loop\n"
     ]
    }
   ],
   "source": [
    "%%timeit\n",
    "dq = deque()\n",
    "for i in xrange(100):\n",
    "    dq.appendleft(1)"
   ]
  },
  {
   "cell_type": "markdown",
   "metadata": {},
   "source": [
    "### Access"
   ]
  },
  {
   "cell_type": "code",
   "execution_count": 173,
   "metadata": {
    "collapsed": true
   },
   "outputs": [],
   "source": [
    "ls = range(100)\n",
    "dq = deque(range(100))"
   ]
  },
  {
   "cell_type": "markdown",
   "metadata": {},
   "source": [
    "#### Random Access"
   ]
  },
  {
   "cell_type": "code",
   "execution_count": 174,
   "metadata": {},
   "outputs": [
    {
     "name": "stdout",
     "output_type": "stream",
     "text": [
      "The slowest run took 56.68 times longer than the fastest. This could mean that an intermediate result is being cached.\n",
      "10000000 loops, best of 3: 37.9 ns per loop\n"
     ]
    }
   ],
   "source": [
    "%%timeit\n",
    "dq[50]"
   ]
  },
  {
   "cell_type": "code",
   "execution_count": 175,
   "metadata": {},
   "outputs": [
    {
     "name": "stdout",
     "output_type": "stream",
     "text": [
      "The slowest run took 43.55 times longer than the fastest. This could mean that an intermediate result is being cached.\n",
      "10000000 loops, best of 3: 27.4 ns per loop\n"
     ]
    }
   ],
   "source": [
    "%%timeit\n",
    "ls[50]"
   ]
  },
  {
   "cell_type": "markdown",
   "metadata": {},
   "source": [
    "#### Sequential Access"
   ]
  },
  {
   "cell_type": "code",
   "execution_count": 176,
   "metadata": {},
   "outputs": [
    {
     "name": "stdout",
     "output_type": "stream",
     "text": [
      "The slowest run took 10.75 times longer than the fastest. This could mean that an intermediate result is being cached.\n",
      "1000000 loops, best of 3: 987 ns per loop\n"
     ]
    }
   ],
   "source": [
    "%%timeit\n",
    "for x in ls:\n",
    "    pass"
   ]
  },
  {
   "cell_type": "code",
   "execution_count": 13,
   "metadata": {},
   "outputs": [
    {
     "name": "stdout",
     "output_type": "stream",
     "text": [
      "The slowest run took 9.87 times longer than the fastest. This could mean that an intermediate result is being cached.\n",
      "1000000 loops, best of 3: 932 ns per loop\n"
     ]
    }
   ],
   "source": [
    "%%timeit\n",
    "for x in dq:\n",
    "    pass"
   ]
  },
  {
   "cell_type": "markdown",
   "metadata": {},
   "source": [
    "#### Slices"
   ]
  },
  {
   "cell_type": "code",
   "execution_count": 14,
   "metadata": {},
   "outputs": [
    {
     "name": "stdout",
     "output_type": "stream",
     "text": [
      "10000000 loops, best of 3: 131 ns per loop\n"
     ]
    }
   ],
   "source": [
    "%%timeit\n",
    "ls[5:15]"
   ]
  },
  {
   "cell_type": "code",
   "execution_count": 15,
   "metadata": {},
   "outputs": [
    {
     "name": "stdout",
     "output_type": "stream",
     "text": [
      "The slowest run took 4.71 times longer than the fastest. This could mean that an intermediate result is being cached.\n",
      "1000000 loops, best of 3: 810 ns per loop\n"
     ]
    }
   ],
   "source": [
    "%%timeit\n",
    "list(dq)[5:15] # deques don't support slicing directly"
   ]
  },
  {
   "cell_type": "markdown",
   "metadata": {},
   "source": [
    "# Mappings"
   ]
  },
  {
   "cell_type": "code",
   "execution_count": 66,
   "metadata": {},
   "outputs": [
    {
     "data": {
      "text/plain": [
       "{'key': 'value'}"
      ]
     },
     "execution_count": 66,
     "metadata": {},
     "output_type": "execute_result"
    }
   ],
   "source": [
    "d = {}\n",
    "d[\"key\"] = \"value\"\n",
    "d"
   ]
  },
  {
   "cell_type": "code",
   "execution_count": 67,
   "metadata": {},
   "outputs": [
    {
     "name": "stdout",
     "output_type": "stream",
     "text": [
      "value\n",
      "value\n",
      "None\n",
      "default!\n"
     ]
    }
   ],
   "source": [
    "print d[\"key\"]\n",
    "print d.get(\"key\")\n",
    "print d.get(\"not_there\")\n",
    "print d.get(\"not_there\", \"default!\")"
   ]
  },
  {
   "cell_type": "markdown",
   "metadata": {},
   "source": [
    "## Valid Keys\n",
    "\n",
    "Dictionary keys must be hashable types.  Most immutable types are hashable.  Some examples are strings, numbers, boolean values, tuples, and even functions or classes."
   ]
  },
  {
   "cell_type": "code",
   "execution_count": 97,
   "metadata": {},
   "outputs": [
    {
     "data": {
      "text/plain": [
       "{1: 'bull',\n",
       " <function __main__.square>: 'told you so 1764',\n",
       " 'a': 'b',\n",
       " ('left', 'right'): 42}"
      ]
     },
     "execution_count": 97,
     "metadata": {},
     "output_type": "execute_result"
    }
   ],
   "source": [
    "def square(x):\n",
    "    return x ** 2\n",
    "\n",
    "{\n",
    "    \"a\": \"b\",\n",
    "    1: \"lonely\",\n",
    "    True: \"bull\",\n",
    "    (\"left\", \"right\"): 42,\n",
    "    square: \"told you so %d\" % (square(42))\n",
    "}"
   ]
  },
  {
   "cell_type": "markdown",
   "metadata": {},
   "source": [
    "## Basic Operations"
   ]
  },
  {
   "cell_type": "code",
   "execution_count": 82,
   "metadata": {
    "collapsed": true
   },
   "outputs": [],
   "source": [
    "example = {\"color\": \"blue\", \"age\": 34, \"name\": \"Jesse\"}"
   ]
  },
  {
   "cell_type": "code",
   "execution_count": 96,
   "metadata": {},
   "outputs": [
    {
     "name": "stdout",
     "output_type": "stream",
     "text": [
      "{'age': 34, 'color': 'blue', 'name': 'Jesse'}\n",
      "{'age': 34, 'name': 'Jesse'}\n",
      "{'age': 34, 'color': 'blue', 'name': 'Jesse'}\n",
      "3\n"
     ]
    }
   ],
   "source": [
    "my_example = dict(example) # performs a shallow copy\n",
    "pprint(my_example)\n",
    "del my_example[\"color\"] # delete the \"color\" key\n",
    "pprint(my_example)\n",
    "pprint(example) # original dictionary is unharmed!\n",
    "pprint(len(example)) # number of keys"
   ]
  },
  {
   "cell_type": "code",
   "execution_count": 87,
   "metadata": {},
   "outputs": [
    {
     "data": {
      "text/plain": [
       "True"
      ]
     },
     "execution_count": 87,
     "metadata": {},
     "output_type": "execute_result"
    }
   ],
   "source": [
    "\"age\" in example"
   ]
  },
  {
   "cell_type": "code",
   "execution_count": 88,
   "metadata": {},
   "outputs": [
    {
     "data": {
      "text/plain": [
       "True"
      ]
     },
     "execution_count": 88,
     "metadata": {},
     "output_type": "execute_result"
    }
   ],
   "source": [
    "\"missing\" not in example"
   ]
  },
  {
   "cell_type": "code",
   "execution_count": 89,
   "metadata": {},
   "outputs": [
    {
     "name": "stdout",
     "output_type": "stream",
     "text": [
      "{'age': 34, 'color': 'blue', 'name': 'Jesse'}\n",
      "{}\n"
     ]
    }
   ],
   "source": [
    "my_example = example.copy() # another way to shallow copy\n",
    "pprint(my_example)\n",
    "my_example.clear()\n",
    "pprint(my_example)"
   ]
  },
  {
   "cell_type": "markdown",
   "metadata": {},
   "source": [
    "### Merge two mappings"
   ]
  },
  {
   "cell_type": "code",
   "execution_count": 92,
   "metadata": {},
   "outputs": [
    {
     "data": {
      "text/plain": [
       "{'beer': 'dark', 'color': 'purple', 'team': 'tigers', 'wine': 'moscato'}"
      ]
     },
     "execution_count": 92,
     "metadata": {},
     "output_type": "execute_result"
    }
   ],
   "source": [
    "left = {\"color\": \"red\", \"team\": \"razorbacks\", \"beer\": \"dark\"}\n",
    "right = {\"color\": \"purple\", \"team\": \"tigers\", \"wine\": \"moscato\"}\n",
    "\n",
    "l_copy = left.copy()\n",
    "l_copy.update(right)\n",
    "l_copy"
   ]
  },
  {
   "cell_type": "code",
   "execution_count": 110,
   "metadata": {},
   "outputs": [
    {
     "data": {
      "text/plain": [
       "'blue'"
      ]
     },
     "execution_count": 110,
     "metadata": {},
     "output_type": "execute_result"
    }
   ],
   "source": [
    "a = example.copy()\n",
    "a.pop(\"color\")"
   ]
  },
  {
   "cell_type": "code",
   "execution_count": 127,
   "metadata": {},
   "outputs": [
    {
     "data": {
      "text/plain": [
       "('color', 'blue')"
      ]
     },
     "execution_count": 127,
     "metadata": {},
     "output_type": "execute_result"
    }
   ],
   "source": [
    "b = example.copy()\n",
    "b.popitem() # it's random, the order is an implementation detail"
   ]
  },
  {
   "cell_type": "markdown",
   "metadata": {},
   "source": [
    "### Iteration"
   ]
  },
  {
   "cell_type": "code",
   "execution_count": 168,
   "metadata": {},
   "outputs": [
    {
     "name": "stdout",
     "output_type": "stream",
     "text": [
      "color\n",
      "age\n",
      "name\n"
     ]
    }
   ],
   "source": [
    "for key in example:\n",
    "    print key"
   ]
  },
  {
   "cell_type": "code",
   "execution_count": 79,
   "metadata": {},
   "outputs": [
    {
     "name": "stdout",
     "output_type": "stream",
     "text": [
      "color: blue\n",
      "age: 34\n",
      "name: Jesse\n"
     ]
    }
   ],
   "source": [
    "for key, value in example.items():\n",
    "    print \"%s: %s\" % (key, value)"
   ]
  },
  {
   "cell_type": "markdown",
   "metadata": {},
   "source": [
    "## defaultdict"
   ]
  },
  {
   "cell_type": "markdown",
   "metadata": {},
   "source": [
    "A subclass of the standard dictionary class that provides a factory for building non-existent keys when they are accessed."
   ]
  },
  {
   "cell_type": "code",
   "execution_count": 177,
   "metadata": {
    "collapsed": true
   },
   "outputs": [],
   "source": [
    "from collections import defaultdict"
   ]
  },
  {
   "cell_type": "code",
   "execution_count": 179,
   "metadata": {},
   "outputs": [
    {
     "name": "stdout",
     "output_type": "stream",
     "text": [
      "{'key': 1}\n",
      "defaultdict(<type 'int'>, {'key': 1})\n"
     ]
    }
   ],
   "source": [
    "d = {}\n",
    "dd = defaultdict(int)\n",
    "\n",
    "d[\"key\"] = 1\n",
    "dd[\"key\"] = 1\n",
    "\n",
    "print d\n",
    "print dd"
   ]
  },
  {
   "cell_type": "code",
   "execution_count": 180,
   "metadata": {},
   "outputs": [
    {
     "name": "stdout",
     "output_type": "stream",
     "text": [
      "0\n"
     ]
    },
    {
     "ename": "KeyError",
     "evalue": "'key'",
     "output_type": "error",
     "traceback": [
      "\u001b[0;31m---------------------------------------------------------------------------\u001b[0m",
      "\u001b[0;31mKeyError\u001b[0m                                  Traceback (most recent call last)",
      "\u001b[0;32m<ipython-input-180-75fd69c3a5a6>\u001b[0m in \u001b[0;36m<module>\u001b[0;34m()\u001b[0m\n\u001b[1;32m      3\u001b[0m \u001b[0;34m\u001b[0m\u001b[0m\n\u001b[1;32m      4\u001b[0m \u001b[0;32mprint\u001b[0m \u001b[0mdd\u001b[0m\u001b[0;34m[\u001b[0m\u001b[0;34m\"key\"\u001b[0m\u001b[0;34m]\u001b[0m\u001b[0;34m\u001b[0m\u001b[0m\n\u001b[0;32m----> 5\u001b[0;31m \u001b[0;32mprint\u001b[0m \u001b[0md\u001b[0m\u001b[0;34m[\u001b[0m\u001b[0;34m\"key\"\u001b[0m\u001b[0;34m]\u001b[0m\u001b[0;34m\u001b[0m\u001b[0m\n\u001b[0m",
      "\u001b[0;31mKeyError\u001b[0m: 'key'"
     ]
    }
   ],
   "source": [
    "d = {}\n",
    "dd = defaultdict(int)\n",
    "\n",
    "print dd[\"key\"]\n",
    "print d[\"key\"]"
   ]
  },
  {
   "cell_type": "markdown",
   "metadata": {},
   "source": [
    "# Dictionary vs defaultdict"
   ]
  },
  {
   "cell_type": "markdown",
   "metadata": {},
   "source": [
    "Using a standard dictionary, you must check for the non-existence of a key every loop and create the desired default value if it does not exist."
   ]
  },
  {
   "cell_type": "code",
   "execution_count": 181,
   "metadata": {},
   "outputs": [
    {
     "data": {
      "text/plain": [
       "{'even': [0, 2, 4, 6, 8, 10, 12, 14, 16, 18, 20, 22, 24, 26, 28],\n",
       " 'odd': [1, 3, 5, 7, 9, 11, 13, 15, 17, 19, 21, 23, 25, 27, 29]}"
      ]
     },
     "execution_count": 181,
     "metadata": {},
     "output_type": "execute_result"
    }
   ],
   "source": [
    "d = {}\n",
    "\n",
    "for x in range(30):\n",
    "    bucket = \"even\" if (x % 2 == 0) else \"odd\"\n",
    "    if bucket not in d:\n",
    "        d[bucket] = []\n",
    "    d[bucket].append(x)\n",
    "\n",
    "d"
   ]
  },
  {
   "cell_type": "markdown",
   "metadata": {},
   "source": [
    "The `setdefault` method provides a bit of a shortcut for this common task."
   ]
  },
  {
   "cell_type": "code",
   "execution_count": 182,
   "metadata": {},
   "outputs": [
    {
     "data": {
      "text/plain": [
       "{'even': [0, 2, 4, 6, 8, 10, 12, 14, 16, 18, 20, 22, 24, 26, 28],\n",
       " 'odd': [1, 3, 5, 7, 9, 11, 13, 15, 17, 19, 21, 23, 25, 27, 29]}"
      ]
     },
     "execution_count": 182,
     "metadata": {},
     "output_type": "execute_result"
    }
   ],
   "source": [
    "d = {}\n",
    "\n",
    "for x in range(30):\n",
    "    bucket = \"even\" if (x % 2 == 0) else \"odd\"\n",
    "    d.setdefault(bucket, []).append(x)\n",
    "\n",
    "d"
   ]
  },
  {
   "cell_type": "markdown",
   "metadata": {},
   "source": [
    "A defaultdict requires you to specify a *factory function* when you create it to control the behavior of `__getitem__` on non-existent keys.  I find this to be preferable to either option above."
   ]
  },
  {
   "cell_type": "code",
   "execution_count": 183,
   "metadata": {},
   "outputs": [
    {
     "data": {
      "text/plain": [
       "defaultdict(list,\n",
       "            {'even': [0, 2, 4, 6, 8, 10, 12, 14, 16, 18, 20, 22, 24, 26, 28],\n",
       "             'odd': [1, 3, 5, 7, 9, 11, 13, 15, 17, 19, 21, 23, 25, 27, 29]})"
      ]
     },
     "execution_count": 183,
     "metadata": {},
     "output_type": "execute_result"
    }
   ],
   "source": [
    "dd = defaultdict(list)\n",
    "\n",
    "for x in range(30):\n",
    "    bucket = \"even\" if (x % 2 == 0) else \"odd\"\n",
    "    dd[bucket].append(x)\n",
    "\n",
    "dd"
   ]
  },
  {
   "cell_type": "markdown",
   "metadata": {},
   "source": [
    "Let's get some data to play with.  I'm using the requests http client library to download a list of common passwords."
   ]
  },
  {
   "cell_type": "code",
   "execution_count": 21,
   "metadata": {
    "collapsed": true
   },
   "outputs": [],
   "source": [
    "import requests\n",
    "words = requests.get(\"https://raw.githubusercontent.com/berzerk0/Probable-Wordlists/master/Real-Passwords/Top3575-probable.txt\").text.split(\"\\n\")"
   ]
  },
  {
   "cell_type": "markdown",
   "metadata": {},
   "source": [
    "### Counting\n",
    "\n",
    "You can count with vanilla dictionaries by exploiting the default portion of the `.get` method.\n",
    "This is a good way to prepare data for use in a histogram."
   ]
  },
  {
   "cell_type": "markdown",
   "metadata": {},
   "source": [
    "Let's see how many passwords there are per length of password.  For example, in our list there are 1191 passwords that are 6 characters long."
   ]
  },
  {
   "cell_type": "code",
   "execution_count": 184,
   "metadata": {},
   "outputs": [
    {
     "data": {
      "text/plain": [
       "{0: 1,\n",
       " 1: 10,\n",
       " 2: 2,\n",
       " 3: 5,\n",
       " 4: 61,\n",
       " 5: 191,\n",
       " 6: 1191,\n",
       " 7: 736,\n",
       " 8: 972,\n",
       " 9: 277,\n",
       " 10: 102,\n",
       " 11: 18,\n",
       " 12: 7,\n",
       " 13: 2}"
      ]
     },
     "execution_count": 184,
     "metadata": {},
     "output_type": "execute_result"
    }
   ],
   "source": [
    "by_len = {}\n",
    "for word in words:\n",
    "    by_len[len(word)] = by_len.get(len(word), 0) + 1\n",
    "\n",
    "by_len"
   ]
  },
  {
   "cell_type": "markdown",
   "metadata": {},
   "source": [
    "Let's see the breakdown of passwords by unique characters.  We can count the number of unique characters by forcing a string into a set and checking the length."
   ]
  },
  {
   "cell_type": "code",
   "execution_count": 186,
   "metadata": {},
   "outputs": [
    {
     "name": "stdout",
     "output_type": "stream",
     "text": [
      "6\n",
      "set(['a', 'b', 'n'])\n",
      "3\n"
     ]
    }
   ],
   "source": [
    "word = \"banana\"\n",
    "print len(word)\n",
    "print set(word)\n",
    "print len(set(word))"
   ]
  },
  {
   "cell_type": "code",
   "execution_count": 185,
   "metadata": {},
   "outputs": [
    {
     "data": {
      "text/plain": [
       "{0: 1,\n",
       " 1: 84,\n",
       " 2: 51,\n",
       " 3: 70,\n",
       " 4: 270,\n",
       " 5: 786,\n",
       " 6: 1121,\n",
       " 7: 750,\n",
       " 8: 323,\n",
       " 9: 93,\n",
       " 10: 22,\n",
       " 12: 4}"
      ]
     },
     "execution_count": 185,
     "metadata": {},
     "output_type": "execute_result"
    }
   ],
   "source": [
    "dist_ch = {}\n",
    "for word in words:   \n",
    "    chs = len(set(word))\n",
    "    dist_ch[chs] = dist_ch.get(chs, 0) + 1\n",
    "    \n",
    "dist_ch"
   ]
  },
  {
   "cell_type": "markdown",
   "metadata": {},
   "source": [
    "### Grouping"
   ]
  },
  {
   "cell_type": "markdown",
   "metadata": {},
   "source": [
    "It's worth noting that `setdefault` tends to be a slower operation when compared to employing a factory function with a `defaultdict`."
   ]
  },
  {
   "cell_type": "code",
   "execution_count": 189,
   "metadata": {},
   "outputs": [
    {
     "name": "stdout",
     "output_type": "stream",
     "text": [
      "100 loops, best of 3: 3.21 ms per loop\n"
     ]
    }
   ],
   "source": [
    "%%timeit\n",
    "d = {}\n",
    "for word in words:\n",
    "    chs = len(set(word))\n",
    "    d.setdefault(chs, []).append(word)"
   ]
  },
  {
   "cell_type": "code",
   "execution_count": 190,
   "metadata": {},
   "outputs": [
    {
     "name": "stdout",
     "output_type": "stream",
     "text": [
      "100 loops, best of 3: 2.81 ms per loop\n"
     ]
    }
   ],
   "source": [
    "%%timeit\n",
    "dd = defaultdict(list)\n",
    "for word in words:\n",
    "    chs = len(set(word))\n",
    "    dd[chs].append(word)"
   ]
  },
  {
   "cell_type": "markdown",
   "metadata": {},
   "source": [
    "### More counting\n",
    "\n",
    "The collections package provides a `Counter` class that can be used for, counting.  It's essentially a specialized dictionary that is optimized for mappings where the values are numbers."
   ]
  },
  {
   "cell_type": "code",
   "execution_count": 26,
   "metadata": {
    "collapsed": true
   },
   "outputs": [],
   "source": [
    "from collections import Counter"
   ]
  },
  {
   "cell_type": "markdown",
   "metadata": {},
   "source": [
    "Let's do a variation on our unique character count from before. This time let's get the most common character sets from our data.\n",
    "\n",
    "Looks like there are 8 passwords in the set that are comprised of **nothing** but the number `1`."
   ]
  },
  {
   "cell_type": "code",
   "execution_count": 27,
   "metadata": {},
   "outputs": [
    {
     "data": {
      "text/plain": [
       "[((u'1', u'2', u'3', u'4', u'5', u'6', u'7', u'8', u'9'), 14),\n",
       " ((u'1', u'2', u'3'), 8),\n",
       " ((u'1',), 8),\n",
       " ((u'a',), 7),\n",
       " ((u'1', u'2', u'3', u'4'), 7)]"
      ]
     },
     "execution_count": 27,
     "metadata": {},
     "output_type": "execute_result"
    }
   ],
   "source": [
    "c = Counter()\n",
    "for word in words:\n",
    "    dist_ch = tuple(sorted(set(word)))\n",
    "    c[dist_ch] += 1\n",
    "\n",
    "c.most_common(5)"
   ]
  },
  {
   "cell_type": "markdown",
   "metadata": {},
   "source": [
    "## Data Wrangling\n",
    "\n",
    "It's very common to want to work with a list of mappings (*cough*relational databases*cough*).  To get started let's grab some fake sales data and read it using the built in `csv` module."
   ]
  },
  {
   "cell_type": "code",
   "execution_count": 29,
   "metadata": {
    "collapsed": true
   },
   "outputs": [],
   "source": [
    "import csv\n",
    "dataset = requests.get(\"http://samplecsvs.s3.amazonaws.com/SalesJan2009.csv\")\n",
    "r = csv.DictReader(dataset.iter_lines())\n",
    "rows = list(r)"
   ]
  },
  {
   "cell_type": "code",
   "execution_count": 30,
   "metadata": {},
   "outputs": [
    {
     "data": {
      "text/plain": [
       "998"
      ]
     },
     "execution_count": 30,
     "metadata": {},
     "output_type": "execute_result"
    }
   ],
   "source": [
    "len(rows)"
   ]
  },
  {
   "cell_type": "code",
   "execution_count": 31,
   "metadata": {},
   "outputs": [
    {
     "data": {
      "text/plain": [
       "{'Account_Created': '1/2/09 6:00',\n",
       " 'City': 'Basildon',\n",
       " 'Country': 'United Kingdom',\n",
       " 'Last_Login': '1/2/09 6:08',\n",
       " 'Latitude': '51.5',\n",
       " 'Longitude': '-1.1166667',\n",
       " 'Name': 'carolina',\n",
       " 'Payment_Type': 'Mastercard',\n",
       " 'Price': '1200',\n",
       " 'Product': 'Product1',\n",
       " 'State': 'England',\n",
       " 'Transaction_date': '1/2/09 6:17'}"
      ]
     },
     "execution_count": 31,
     "metadata": {},
     "output_type": "execute_result"
    }
   ],
   "source": [
    "rows[0]"
   ]
  },
  {
   "cell_type": "markdown",
   "metadata": {},
   "source": [
    "Each row appears to represent a sales transaction.  Let's figure out the most common countries where transactions occurred."
   ]
  },
  {
   "cell_type": "code",
   "execution_count": 32,
   "metadata": {},
   "outputs": [
    {
     "data": {
      "text/plain": [
       "[('United States', 463), ('United Kingdom', 100), ('Canada', 76)]"
      ]
     },
     "execution_count": 32,
     "metadata": {},
     "output_type": "execute_result"
    }
   ],
   "source": [
    "countries = Counter()\n",
    "for row in rows:\n",
    "    countries[row[\"Country\"]] += 1\n",
    "countries.most_common(3)"
   ]
  },
  {
   "cell_type": "markdown",
   "metadata": {},
   "source": [
    "The `'Price'` column is a string.  Not only that, but it's a formatted string with comma characters in it in some cases.  Let's build a function to convert that to an integer."
   ]
  },
  {
   "cell_type": "code",
   "execution_count": 49,
   "metadata": {
    "collapsed": true
   },
   "outputs": [],
   "source": [
    "def parse_price(rev):\n",
    "    return int(filter(lambda c: c.isdigit(), rev))"
   ]
  },
  {
   "cell_type": "markdown",
   "metadata": {},
   "source": [
    "Now that we have a way to make the `'Price'` column a real number, we can see how much revenue has been generated in each country."
   ]
  },
  {
   "cell_type": "code",
   "execution_count": 50,
   "metadata": {},
   "outputs": [
    {
     "data": {
      "text/plain": [
       "[(1200, 'Argentina'),\n",
       " (1200, 'Bahrain'),\n",
       " (1200, 'Bermuda'),\n",
       " (1200, 'Bulgaria'),\n",
       " (1200, 'Cayman Isls'),\n",
       " (1200, 'China'),\n",
       " (1200, 'Costa Rica'),\n",
       " (1200, 'Dominican Republic'),\n",
       " (1200, 'Greece'),\n",
       " (1200, 'Guatemala'),\n",
       " (1200, 'Hong Kong'),\n",
       " (1200, 'Iceland'),\n",
       " (1200, 'Israel'),\n",
       " (1200, 'Jersey'),\n",
       " (1200, 'Kuwait'),\n",
       " (1200, 'Latvia'),\n",
       " (1200, 'Luxembourg'),\n",
       " (1200, 'Malaysia'),\n",
       " (1200, 'Moldova'),\n",
       " (1200, 'Romania'),\n",
       " (1200, 'South Korea'),\n",
       " (1200, 'Ukraine'),\n",
       " (2400, 'Finland'),\n",
       " (2400, 'India'),\n",
       " (2400, 'Japan'),\n",
       " (2400, 'Monaco'),\n",
       " (2400, 'Philippines'),\n",
       " (2400, 'Poland'),\n",
       " (2400, 'The Bahamas'),\n",
       " (3600, 'Hungary'),\n",
       " (3600, 'Mauritius'),\n",
       " (3600, 'Russia'),\n",
       " (4800, 'Malta'),\n",
       " (4800, 'Thailand'),\n",
       " (6000, 'Czech Republic'),\n",
       " (7200, 'New Zealand'),\n",
       " (7200, 'Turkey'),\n",
       " (10800, 'Austria'),\n",
       " (12000, 'Belgium'),\n",
       " (12000, 'United Arab Emirates'),\n",
       " (12300, 'Brazil'),\n",
       " (12300, 'South Africa'),\n",
       " (16800, 'Spain'),\n",
       " (18000, 'Denmark'),\n",
       " (21600, 'Norway'),\n",
       " (22800, 'Sweden'),\n",
       " (37800, 'Italy'),\n",
       " (42000, 'Germany'),\n",
       " (44700, 'Netherlands'),\n",
       " (53100, 'France'),\n",
       " (64800, 'Australia'),\n",
       " (69900, 'Ireland'),\n",
       " (76800, 'Switzerland'),\n",
       " (124800, 'Canada'),\n",
       " (144000, 'United Kingdom'),\n",
       " (750000, 'United States')]"
      ]
     },
     "execution_count": 50,
     "metadata": {},
     "output_type": "execute_result"
    }
   ],
   "source": [
    "revenue_by_country = defaultdict(list)\n",
    "for row in rows:\n",
    "    revenue_by_country[row[\"Country\"]].append(parse_price(row[\"Price\"]))\n",
    "    \n",
    "sorted((sum(rev), c) for c, rev in revenue_by_country.items())"
   ]
  },
  {
   "cell_type": "markdown",
   "metadata": {},
   "source": [
    "Grouping then aggregating a collection of mappings is very common.  I'll continue to do this operation for every example from here on out.  Let's calculate the average sales price, total sales price, and total number of sales per country."
   ]
  },
  {
   "cell_type": "code",
   "execution_count": 192,
   "metadata": {},
   "outputs": [
    {
     "name": "stdout",
     "output_type": "stream",
     "text": [
      "{'Argentina': (1200, 1200, 1),\n",
      " 'Australia': (1705, 64800, 38),\n",
      " 'Austria': (1542, 10800, 7),\n",
      " 'Bahrain': (1200, 1200, 1),\n",
      " 'Belgium': (1500, 12000, 8),\n",
      " 'Bermuda': (1200, 1200, 1),\n",
      " 'Brazil': (2460, 12300, 5),\n",
      " 'Bulgaria': (1200, 1200, 1),\n",
      " 'Canada': (1642, 124800, 76),\n",
      " 'Cayman Isls': (1200, 1200, 1),\n",
      " 'China': (1200, 1200, 1),\n",
      " 'Costa Rica': (1200, 1200, 1),\n",
      " 'Czech Republic': (2000, 6000, 3),\n",
      " 'Denmark': (1200, 18000, 15),\n",
      " 'Dominican Republic': (1200, 1200, 1),\n",
      " 'Finland': (1200, 2400, 2),\n",
      " 'France': (1966, 53100, 27),\n",
      " 'Germany': (1680, 42000, 25),\n",
      " 'Greece': (1200, 1200, 1),\n",
      " 'Guatemala': (1200, 1200, 1),\n",
      " 'Hong Kong': (1200, 1200, 1),\n",
      " 'Hungary': (1200, 3600, 3),\n",
      " 'Iceland': (1200, 1200, 1),\n",
      " 'India': (1200, 2400, 2),\n",
      " 'Ireland': (1426, 69900, 49),\n",
      " 'Israel': (1200, 1200, 1),\n",
      " 'Italy': (2520, 37800, 15),\n",
      " 'Japan': (1200, 2400, 2),\n",
      " 'Jersey': (1200, 1200, 1),\n",
      " 'Kuwait': (1200, 1200, 1),\n",
      " 'Latvia': (1200, 1200, 1),\n",
      " 'Luxembourg': (1200, 1200, 1),\n",
      " 'Malaysia': (1200, 1200, 1),\n",
      " 'Malta': (2400, 4800, 2),\n",
      " 'Mauritius': (3600, 3600, 1),\n",
      " 'Moldova': (1200, 1200, 1),\n",
      " 'Monaco': (1200, 2400, 2),\n",
      " 'Netherlands': (2031, 44700, 22),\n",
      " 'New Zealand': (1200, 7200, 6),\n",
      " 'Norway': (1350, 21600, 16),\n",
      " 'Philippines': (1200, 2400, 2),\n",
      " 'Poland': (1200, 2400, 2),\n",
      " 'Romania': (1200, 1200, 1),\n",
      " 'Russia': (3600, 3600, 1),\n",
      " 'South Africa': (2460, 12300, 5),\n",
      " 'South Korea': (1200, 1200, 1),\n",
      " 'Spain': (1400, 16800, 12),\n",
      " 'Sweden': (1753, 22800, 13),\n",
      " 'Switzerland': (2133, 76800, 36),\n",
      " 'Thailand': (2400, 4800, 2),\n",
      " 'The Bahamas': (1200, 2400, 2),\n",
      " 'Turkey': (1200, 7200, 6),\n",
      " 'Ukraine': (1200, 1200, 1),\n",
      " 'United Arab Emirates': (2000, 12000, 6),\n",
      " 'United Kingdom': (1440, 144000, 100),\n",
      " 'United States': (1619, 750000, 463)}\n"
     ]
    }
   ],
   "source": [
    "def avg(prices):\n",
    "    return sum(prices) / len(prices)\n",
    "\n",
    "group = defaultdict(list)\n",
    "for row in rows:\n",
    "    group[row[\"Country\"]].append(parse_price(row[\"Price\"]))\n",
    "\n",
    "price_info = {country: (avg(prices), sum(prices), len(prices)) for country, prices in group.items()}\n",
    "pprint(price_info)"
   ]
  },
  {
   "cell_type": "markdown",
   "metadata": {},
   "source": [
    "### Sorting\n",
    "`sorted`, `max`, and `min` all optionally take a `key` kwarg that allows you to control how to sort a collection."
   ]
  },
  {
   "cell_type": "code",
   "execution_count": 193,
   "metadata": {},
   "outputs": [
    {
     "name": "stdout",
     "output_type": "stream",
     "text": [
      "most transactions\n",
      "('United States', (1619, 750000, 463))\n"
     ]
    }
   ],
   "source": [
    "print \"most transactions\"\n",
    "pprint(max(price_info.items(), key=lambda pair: pair[1][2]))"
   ]
  },
  {
   "cell_type": "markdown",
   "metadata": {},
   "source": [
    "The operator package provides a useful method `itemgetter` which allows you to specify which item out of a collection.  The `itemgetter` function is higher-order, meaning that it returns a function."
   ]
  },
  {
   "cell_type": "code",
   "execution_count": 196,
   "metadata": {
    "collapsed": true
   },
   "outputs": [],
   "source": [
    "from operator import itemgetter"
   ]
  },
  {
   "cell_type": "code",
   "execution_count": 199,
   "metadata": {},
   "outputs": [
    {
     "data": {
      "text/plain": [
       "<operator.itemgetter at 0x1039c1450>"
      ]
     },
     "execution_count": 199,
     "metadata": {},
     "output_type": "execute_result"
    }
   ],
   "source": [
    "itemgetter(0)"
   ]
  },
  {
   "cell_type": "code",
   "execution_count": 197,
   "metadata": {},
   "outputs": [
    {
     "data": {
      "text/plain": [
       "2"
      ]
     },
     "execution_count": 197,
     "metadata": {},
     "output_type": "execute_result"
    }
   ],
   "source": [
    "ls = [1, 2, 3]\n",
    "itemgetter(1)(ls)"
   ]
  },
  {
   "cell_type": "code",
   "execution_count": 198,
   "metadata": {},
   "outputs": [
    {
     "data": {
      "text/plain": [
       "'Jesse'"
      ]
     },
     "execution_count": 198,
     "metadata": {},
     "output_type": "execute_result"
    }
   ],
   "source": [
    "d = {\"name\": \"Jesse\", \"color\": \"blue\"}\n",
    "itemgetter(\"name\")(d)"
   ]
  },
  {
   "cell_type": "code",
   "execution_count": 200,
   "metadata": {},
   "outputs": [
    {
     "name": "stdout",
     "output_type": "stream",
     "text": [
      "best average price\n",
      "('Russia', (3600, 3600, 1))\n"
     ]
    }
   ],
   "source": [
    "print \"best average price\"\n",
    "pprint(max(price_info.items(), key=itemgetter(1)))"
   ]
  },
  {
   "cell_type": "markdown",
   "metadata": {},
   "source": [
    "The collections module provides a specializtion of the `tuple` called `namedtuple`.  It provides an immutable mapping structure.  Let's use it to create a `Record` object to apply to our dataset."
   ]
  },
  {
   "cell_type": "code",
   "execution_count": 204,
   "metadata": {},
   "outputs": [
    {
     "name": "stdout",
     "output_type": "stream",
     "text": [
      "['City', 'Product', 'Name', 'Country', 'Price', 'Longitude', 'State', 'Transaction_date', 'Last_Login', 'Payment_Type', 'Latitude', 'Account_Created']\n"
     ]
    }
   ],
   "source": [
    "from collections import namedtuple\n",
    "column_names = list(rows[0]) # remember that iterating over a dictionary operates on the keys\n",
    "print column_names\n",
    "Record = namedtuple('Record', \" \".join(column_names))"
   ]
  },
  {
   "cell_type": "code",
   "execution_count": 205,
   "metadata": {},
   "outputs": [
    {
     "data": {
      "text/plain": [
       "Record(City='Basildon', Product='Product1', Name='carolina', Country='United Kingdom', Price='1200', Longitude='-1.1166667', State='England', Transaction_date='1/2/09 6:17', Last_Login='1/2/09 6:08', Payment_Type='Mastercard', Latitude='51.5', Account_Created='1/2/09 6:00')"
      ]
     },
     "execution_count": 205,
     "metadata": {},
     "output_type": "execute_result"
    }
   ],
   "source": [
    "Record(**rows[0]) # create a record from the first row of the dataset"
   ]
  },
  {
   "cell_type": "markdown",
   "metadata": {},
   "source": [
    "### Unpacking\n",
    "What was that `**` bit?\n",
    "\n",
    "Most iterables support unpacking. That is, you can take the items from the collection and assign them names."
   ]
  },
  {
   "cell_type": "code",
   "execution_count": 217,
   "metadata": {},
   "outputs": [
    {
     "name": "stdout",
     "output_type": "stream",
     "text": [
      "1\n",
      "2\n"
     ]
    }
   ],
   "source": [
    "a, b = (1, 2)\n",
    "print a\n",
    "print b"
   ]
  },
  {
   "cell_type": "markdown",
   "metadata": {},
   "source": [
    "Dictionary unpacking is different from list or tuple unpacking.  You can only unpack mappings into kwargs."
   ]
  },
  {
   "cell_type": "code",
   "execution_count": 222,
   "metadata": {},
   "outputs": [
    {
     "name": "stdout",
     "output_type": "stream",
     "text": [
      "fancy\n",
      "bar\n"
     ]
    }
   ],
   "source": [
    "def ex(foo=\"fancy\"):\n",
    "    print foo\n",
    "\n",
    "ex()\n",
    "\n",
    "ex(**{\"foo\": \"bar\"})"
   ]
  },
  {
   "cell_type": "markdown",
   "metadata": {},
   "source": [
    "We can convert our entire dataset from a list of dictionaries to list of `Record` objects. This will allow us to refer to the column names using the dot notation."
   ]
  },
  {
   "cell_type": "code",
   "execution_count": 38,
   "metadata": {
    "collapsed": true
   },
   "outputs": [],
   "source": [
    "table = [Record(**row) for row in rows]"
   ]
  },
  {
   "cell_type": "code",
   "execution_count": 53,
   "metadata": {},
   "outputs": [
    {
     "data": {
      "text/plain": [
       "[('Visa', 849350),\n",
       " ('Mastercard', 458450),\n",
       " ('Amex', 188900),\n",
       " ('Diners', 133800)]"
      ]
     },
     "execution_count": 53,
     "metadata": {},
     "output_type": "execute_result"
    }
   ],
   "source": [
    "c = Counter()\n",
    "for rec in table:\n",
    "    c[rec.Payment_Type] += parse_price(rec.Price)\n",
    "c.most_common()"
   ]
  },
  {
   "cell_type": "markdown",
   "metadata": {},
   "source": [
    "# Don't Use This\n",
    "\n",
    "What follows is a simplistic data query system that utilizes customized lists and default dictionaries.  I'm going to attempt to demonstrate most of the topics already covered in a cohesive example.  And, as it says in the title, please do not use this code in a production setting!"
   ]
  },
  {
   "cell_type": "code",
   "execution_count": 259,
   "metadata": {
    "collapsed": true
   },
   "outputs": [],
   "source": [
    "class GroupBy(defaultdict):\n",
    "    \"\"\"\n",
    "    This class facilitates a grouping of data by a single key.\n",
    "    The value of the dictionary is expected to be a list of namedtuples.\n",
    "    \"\"\"\n",
    "    \n",
    "    by = \"undefined\"\n",
    "    \n",
    "    def sum(self, by):\n",
    "        return self.agg(by, sum)\n",
    "    \n",
    "    def max(self, by):\n",
    "        return self.agg(by, max)\n",
    "    \n",
    "    def min(self, by):\n",
    "        return self.agg(by, min)\n",
    "    \n",
    "    def avg(self, by):\n",
    "        def avg(values):\n",
    "            xs = list(values)\n",
    "            return sum(xs) / len(xs)\n",
    "        return self.agg(by, avg)\n",
    "    \n",
    "    def count(self):\n",
    "        R = namedtuple(\"Record\", \"%s count\" % self.by)\n",
    "        return Table(R(k, len(rows)) for k, rows in self.items())\n",
    "    \n",
    "    def agg(self, by, func):\n",
    "        R = namedtuple(\"Record\", \"%s %s_%s\" % (self.by, func.__name__, by))\n",
    "        return Table(R(k, func(rows.select(by))) for k, rows in self.items())\n",
    "\n",
    "    \n",
    "class Table(list):\n",
    "    \n",
    "    def group(self, by):\n",
    "        \"\"\"\n",
    "        Returns a GroupBy of rows by the specified key.\n",
    "        \"\"\"\n",
    "        grouping = GroupBy(Table)\n",
    "        grouping.by = by\n",
    "        for row in self:\n",
    "            grouping[getattr(row, by)].append(row)\n",
    "        return grouping\n",
    "    \n",
    "    def select(self, col):\n",
    "        \"\"\"\n",
    "        Yields all the values of a single column.\n",
    "        \"\"\"\n",
    "        for row in self:\n",
    "            yield getattr(row, col)\n",
    "            \n",
    "    def apply(self, col, func):\n",
    "        \"\"\"\n",
    "        Applies a function to a column of the Table.\n",
    "        Returns a new table with the column values replaced by the function.\n",
    "        \"\"\"\n",
    "        return Table([row._replace(**{col: func(getattr(row, col))}) for row in self])\n",
    "    \n",
    "    def where(self, func):\n",
    "        \"\"\"\n",
    "        Returns a copy of the table where the rows are filtered by func.\n",
    "        \"\"\"\n",
    "        return Table(row for row in self if func(row))"
   ]
  },
  {
   "cell_type": "markdown",
   "metadata": {},
   "source": [
    "Since `Table` is a subclass of list we can get a single record."
   ]
  },
  {
   "cell_type": "code",
   "execution_count": 262,
   "metadata": {},
   "outputs": [
    {
     "data": {
      "text/plain": [
       "Record(Country='France', sum_Price=53100)"
      ]
     },
     "execution_count": 262,
     "metadata": {},
     "output_type": "execute_result"
    }
   ],
   "source": [
    "t = Table(table).apply(\"Price\", parse_price)\n",
    "t.group(\"Country\").sum(\"Price\")[7]"
   ]
  },
  {
   "cell_type": "markdown",
   "metadata": {},
   "source": [
    "Also, since `Table` is a subclass of `list`, we can slice it."
   ]
  },
  {
   "cell_type": "code",
   "execution_count": 263,
   "metadata": {},
   "outputs": [
    {
     "data": {
      "text/plain": [
       "[Record(Country='Canada', max_Price=3600),\n",
       " Record(Country='Turkey', max_Price=1200),\n",
       " Record(Country='Italy', max_Price=7500),\n",
       " Record(Country='Czech Republic', max_Price=3600),\n",
       " Record(Country='Kuwait', max_Price=1200)]"
      ]
     },
     "execution_count": 263,
     "metadata": {},
     "output_type": "execute_result"
    }
   ],
   "source": [
    "t = Table(table).apply(\"Price\", parse_price)\n",
    "t.group(\"Country\").agg(\"Price\", max)[:5]"
   ]
  },
  {
   "cell_type": "code",
   "execution_count": 251,
   "metadata": {},
   "outputs": [
    {
     "name": "stdout",
     "output_type": "stream",
     "text": [
      "[Record(Product='Product3', max_Price=7500),\n",
      " Record(Product='Product2', max_Price=3600),\n",
      " Record(Product='Product1', max_Price=13000),\n",
      " Record(Product='Product3 ', max_Price=7500)]\n",
      "[Record(Product='Product3', min_Price=7500),\n",
      " Record(Product='Product2', min_Price=3600),\n",
      " Record(Product='Product1', min_Price=250),\n",
      " Record(Product='Product3 ', min_Price=7500)]\n",
      "[Record(Product='Product3', avg_Price=7500),\n",
      " Record(Product='Product2', avg_Price=3600),\n",
      " Record(Product='Product1', avg_Price=1214),\n",
      " Record(Product='Product3 ', avg_Price=7500)]\n",
      "[Record(Product='Product3', sum_Price=105000),\n",
      " Record(Product='Product2', sum_Price=489600),\n",
      " Record(Product='Product1', sum_Price=1028400),\n",
      " Record(Product='Product3 ', sum_Price=7500)]\n"
     ]
    }
   ],
   "source": [
    "t = Table(table).apply(\"Price\", parse_price)\n",
    "pprint(t.group(\"Product\").max(\"Price\"))\n",
    "pprint(t.group(\"Product\").min(\"Price\"))\n",
    "pprint(t.group(\"Product\").avg(\"Price\"))\n",
    "pprint(t.group(\"Product\").sum(\"Price\"))"
   ]
  },
  {
   "cell_type": "markdown",
   "metadata": {},
   "source": [
    "Similar to itemgetter, attrgetter allows you to sort based on attributes much like `getattr`"
   ]
  },
  {
   "cell_type": "code",
   "execution_count": 257,
   "metadata": {
    "collapsed": true
   },
   "outputs": [],
   "source": [
    "from operator import attrgetter"
   ]
  },
  {
   "cell_type": "code",
   "execution_count": 264,
   "metadata": {},
   "outputs": [
    {
     "data": {
      "text/plain": [
       "[Record(Product='Product1', count=1),\n",
       " Record(Product='Product3 ', count=1),\n",
       " Record(Product='Product3', count=14),\n",
       " Record(Product='Product2', count=136)]"
      ]
     },
     "execution_count": 264,
     "metadata": {},
     "output_type": "execute_result"
    }
   ],
   "source": [
    "t = Table(table).apply(\"Price\", parse_price)\n",
    "sorted(t.where(lambda r: r.Price > 3000).group(\"Product\").count(),\n",
    "       key=attrgetter(\"count\"))"
   ]
  },
  {
   "cell_type": "markdown",
   "metadata": {},
   "source": [
    "Here we'll look at the interior of a small `GroupBy`."
   ]
  },
  {
   "cell_type": "code",
   "execution_count": 273,
   "metadata": {},
   "outputs": [
    {
     "data": {
      "text/plain": [
       "GroupBy(__main__.Table,\n",
       "        {'Product1': [Record(City='Basildon', Product='Product1', Name='carolina', Country='United Kingdom', Price=1200, Longitude='-1.1166667', State='England', Transaction_date='1/2/09 6:17', Last_Login='1/2/09 6:08', Payment_Type='Mastercard', Latitude='51.5', Account_Created='1/2/09 6:00'),\n",
       "          Record(City='Parkville', Product='Product1', Name='Betina', Country='United States', Price=1200, Longitude='-94.68194', State='MO', Transaction_date='1/2/09 4:53', Last_Login='1/2/09 7:49', Payment_Type='Visa', Latitude='39.195', Account_Created='1/2/09 4:42'),\n",
       "          Record(City='Astoria', Product='Product1', Name='Federica e Andrea', Country='United States', Price=1200, Longitude='-123.83', State='OR', Transaction_date='1/2/09 13:08', Last_Login='1/3/09 12:32', Payment_Type='Mastercard', Latitude='46.18806', Account_Created='1/1/09 16:21')]})"
      ]
     },
     "execution_count": 273,
     "metadata": {},
     "output_type": "execute_result"
    }
   ],
   "source": [
    "t = Table(table).apply(\"Price\", parse_price).apply(\"City\", lambda s: s.strip())\n",
    "Table(t[:3]).group(\"Product\")"
   ]
  }
 ],
 "metadata": {
  "kernelspec": {
   "display_name": "Python 2",
   "language": "python",
   "name": "python2"
  },
  "language_info": {
   "codemirror_mode": {
    "name": "ipython",
    "version": 2
   },
   "file_extension": ".py",
   "mimetype": "text/x-python",
   "name": "python",
   "nbconvert_exporter": "python",
   "pygments_lexer": "ipython2",
   "version": "2.7.10"
  }
 },
 "nbformat": 4,
 "nbformat_minor": 2
}
